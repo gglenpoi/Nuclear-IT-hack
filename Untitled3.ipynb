{
 "cells": [
  {
   "cell_type": "code",
   "execution_count": 2,
   "id": "24c58daf",
   "metadata": {},
   "outputs": [],
   "source": [
    "import pytesseract\n",
    "import cv2\n",
    "import matplotlib.pyplot as plt\n",
    "from PIL import Image"
   ]
  },
  {
   "cell_type": "code",
   "execution_count": null,
   "id": "dfb31195",
   "metadata": {},
   "outputs": [],
   "source": [
    "reader = easyocr.Reader(['en'])"
   ]
  },
  {
   "cell_type": "code",
   "execution_count": 38,
   "id": "0d859eda",
   "metadata": {},
   "outputs": [
    {
     "name": "stdout",
     "output_type": "stream",
     "text": [
      "['SEM HV: 30.0 kV View field: 355 um SEM MAG: 781 X', 'WD: 15.00 mm', 'VEGA3 TESCAN', 'Det: SE', '100 um Date(mldly): 03/13/20', 'MEPHI']\n"
     ]
    }
   ],
   "source": [
    "import easyocr\n",
    "import cv2\n",
    "\n",
    "img = cv2.imread(\"test1.png\")\n",
    "#config = ('-l eng --oem 1 --psm 3')\n",
    "result = reader.readtext(img, detail = 0, paragraph = True)\n",
    "print(str(result))"
   ]
  },
  {
   "cell_type": "code",
   "execution_count": null,
   "id": "89a640ed",
   "metadata": {},
   "outputs": [],
   "source": [
    "if (str(result).split()[7] == 'mm'):\n",
    "    k = 1000\n",
    "elif:\n",
    "    k = 1"
   ]
  },
  {
   "cell_type": "code",
   "execution_count": 37,
   "id": "12c2248e",
   "metadata": {},
   "outputs": [
    {
     "name": "stdout",
     "output_type": "stream",
     "text": [
      "1024\n"
     ]
    }
   ],
   "source": [
    "reslist = reslist[reslist.find(\"field\"):]\n",
    "reslist = reslist[:reslist.find(\"m\"):]\n",
    "    \n",
    "\n",
    "\n"
   ]
  },
  {
   "cell_type": "code",
   "execution_count": null,
   "id": "68f5b371",
   "metadata": {},
   "outputs": [],
   "source": []
  }
 ],
 "metadata": {
  "kernelspec": {
   "display_name": "Python 3 (ipykernel)",
   "language": "python",
   "name": "python3"
  },
  "language_info": {
   "codemirror_mode": {
    "name": "ipython",
    "version": 3
   },
   "file_extension": ".py",
   "mimetype": "text/x-python",
   "name": "python",
   "nbconvert_exporter": "python",
   "pygments_lexer": "ipython3",
   "version": "3.7.6"
  }
 },
 "nbformat": 4,
 "nbformat_minor": 5
}
