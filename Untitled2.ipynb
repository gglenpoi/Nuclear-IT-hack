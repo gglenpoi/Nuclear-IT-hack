{
 "cells": [
  {
   "cell_type": "code",
   "execution_count": 2,
   "id": "7b63dd1b",
   "metadata": {},
   "outputs": [
    {
     "name": "stdout",
     "output_type": "stream",
     "text": [
      "Number of particles: 710\n",
      "Average particle size: 314.408\n",
      "[18.5, 32.5, 2.0, 3.5, 2.0, 7.0, 10.5, 82.5, 2.5, 36.0, 48.0, 289.5, 144.5, 206.5, 20.0, 782.0, 6.0, 465.5, 14.5, 67.0, 157.5, 30.0, 166.5, 266.0, 35.0, 2.0, 4.0, 4.5, 27.5, 16.0, 2.0, 576.5, 128329.5, 3.5, 187.0, 27.0, 45.0, 8.0, 9.5, 467.0, 249.5, 78.5, 12.0, 31.5, 4.0, 2.5, 416.5, 12.0, 6.0, 528.0, 177.5, 13.0, 2.5, 13.5, 106.0, 5.5, 484.0, 47.0, 26.0, 4.0, 8.0, 6.0, 349.5, 173.0, 541.5, 26.5, 225.0, 2.5, 246.5, 14.5, 26.5, 238.5, 515.0, 213.0, 46.5, 154.5, 68.5, 10.0, 7.0, 4.5, 519.0, 15.0, 79.0, 41.5, 4.0, 8.0, 3.5, 3.0, 14.0, 46.0, 32.5, 17.0, 14.5, 8.0, 6.5, 23.0, 3.5, 1621.0, 11.0, 204.0, 199.0, 886.0, 5.0, 12.0, 352.0, 3.5, 2.0, 100.0, 2.5, 180.0, 211.5, 19.5, 3.5, 42.0, 6.0, 140.0, 162.5, 13.5, 2.0, 2.0, 2.0, 15.5, 69.0, 148.5, 111.0, 5.5, 2547.5, 88.5, 2.5, 75.5, 36.5, 6.0, 398.0, 20.0, 74.0, 34.5, 736.5, 87.0, 257.0, 192.0, 152.0, 2.5, 29.5, 11.0, 214.0, 655.0, 2.5, 495.5, 215.0, 75.0, 136.0, 4.0, 24.5, 139.5, 67.0, 141.5, 149.0, 46.0, 5.0, 59.0, 63.0, 4.0, 9.0, 33.5, 2.0, 4.5, 3.0, 6.0, 70.0, 42.5, 3.0, 49.5, 10.0, 79.5, 6.5, 7.5, 178.0, 391.0, 23.0, 12.0, 9.5, 100.5, 1033.5, 13.0, 22.0, 126.5, 13.0, 161.5, 190.5, 572.0, 4.0, 31.0, 173.5, 64.0, 5.5, 140.0, 74.0, 14.0, 355.0, 64.0, 757.0, 98.5, 126.0, 2.0, 17.5, 390.0, 270.5, 299.0, 48.0, 16.0, 2.0, 17.5, 98.5, 114.0, 137.0, 48.0, 53.5, 17.0, 4.5, 192.5, 13.5, 718.5, 350.0, 78.0, 37.0, 182.0, 3.0, 11.0, 51.5, 9.0, 64.0, 6.5, 87.5, 79.0, 253.0, 111.0, 57.0, 5.5, 42.5, 944.0, 157.5, 109.5, 7.0, 1758.5, 20.5, 4.5, 387.0, 3.5, 233.0, 2.0, 6.5, 2.5, 2.0, 10.0, 4.5, 68.0, 123.0, 75.5, 6.0, 18.5, 318.0, 233.5, 325.0, 219.5, 264.0, 225.5, 4.5, 6.0, 2.0, 210.5, 1061.0, 2.0, 23.5, 7.5, 588.0, 5.0, 5.5, 59.5, 1131.5, 130.5, 31.0, 74.0, 22.5, 24.5, 85.0, 24.0, 2.5, 219.5, 117.5, 395.0, 14.5, 614.5, 93.0, 36.5, 3.0, 479.0, 18.0, 3.0, 178.5, 3.0, 49.5, 18.0, 6.0, 117.0, 55.5, 36.5, 233.5, 451.0, 59.5, 4.5, 4.5, 423.5, 519.0, 258.0, 110.0, 2.0, 560.5, 4.5, 3.0, 18.5, 55.0, 11.0, 3.0, 33.5, 12.0, 5.0, 73.5, 4.0, 10.5, 133.0, 8.5, 115.0, 290.0, 77.0, 661.0, 55.0, 73.5, 14.5, 133.0, 20.0, 304.5, 127.0, 25.5, 2.0, 6.0, 21.0, 123.5, 48.0, 8.5, 1996.5, 163.5, 5.5, 6.0, 1008.0, 4.0, 2.5, 5.0, 39.0, 219.0, 2.5, 647.0, 7.5, 26.5, 3.0, 12.0, 3.0, 116.5, 154.5, 3.0, 16.0, 31.5, 131.5, 4.5, 117.5, 23.5, 5.5, 436.0, 577.5, 53.0, 6.0, 113.5, 334.5, 281.0, 174.0, 335.0, 48.0, 25.0, 29.5, 5.5, 11.5, 111.0, 4.0, 32.0, 7.5, 41.0, 19.0, 4.5, 286.5, 5.5, 40.5, 5.0, 2.0, 16.5, 182.5, 42.0, 2074.0, 15.0, 100.0, 193.5, 77.0, 6.5, 78.0, 101.0, 5.5, 5.0, 14.0, 58.5, 185.5, 47.0, 2.5, 119.0, 122.5, 13.0, 103.0, 4.0, 13.5, 6.5, 284.0, 572.5, 150.5, 125.5, 184.0, 3.5, 15.5, 11.5, 2.0, 2.0, 4.5, 4.5, 36.0, 93.0, 28.0, 15.5, 175.5, 280.0, 5.0, 390.5, 25.0, 112.5, 344.0, 258.5, 57.0, 2.0, 35.0, 156.5, 2.0, 17.0, 2.0, 137.5, 23.0, 26.5, 63.0, 249.0, 654.5, 172.0, 494.5, 438.0, 360.0, 3.0, 242.0, 59.0, 2.5, 15.0, 253.0, 108.5, 80.5, 571.0, 53.0, 2.0, 104.5, 148.0, 10.0, 113.5, 65.0, 99.0, 1026.0, 22.5, 1940.0, 8.0, 57.5, 282.5, 29.0, 307.5, 238.5, 285.5, 34.5, 33.0, 914.0, 15.0, 132.5, 152.0, 16.5, 3.5, 32.0, 4.0, 120.0, 103.5, 6.5, 5.5, 12.5, 3.5, 6.5, 2.0, 143.5, 73.0, 48.0, 1106.5, 42.5, 2.5, 4.5, 6.5, 32.5, 2.5, 3.5, 2.0, 100.5, 112.5, 369.5, 3.5, 37.5, 55.5, 80.0, 11.0, 400.0, 81.0, 3.5, 66.5, 43.0, 2.0, 59.5, 16.5, 86.5, 68.0, 133.5, 32.0, 457.0, 20.5, 23.0, 31.5, 123.0, 3.0, 53.5, 53.0, 681.0, 48.5, 68.5, 65.5, 6.0, 2.5, 10.0, 10.0, 286.0, 105.0, 367.0, 337.0, 11.0, 5.0, 133.5, 64.0, 182.0, 43.5, 3.0, 128.0, 10.0, 79.0, 39.0, 102.5, 180.5, 953.5, 34.5, 2.5, 163.5, 228.0, 4.0, 7.5, 2.0, 206.0, 56.0, 26.0, 14.0, 8.0, 4.0, 8.0, 11.5, 281.5, 1422.0, 83.5, 9.0, 45.0, 4.0, 2.0, 85.5, 369.0, 5.0, 65.0, 239.5, 36.5, 15.5, 28.5, 91.0, 3.0, 2.0, 11.0, 11.0, 4.5, 112.0, 4.0, 2.5, 6.5, 2.0, 13.0, 2.0, 75.5, 3.0, 158.0, 4.5, 72.0, 16.5, 40.5, 173.0, 8.5, 209.0, 77.0, 44.0, 1890.5, 9.0, 217.0, 16.5, 24.5, 135.0, 52.0, 2.5, 3.0, 63.0, 130.0, 70.0, 167.5, 47.0, 177.0, 38.5, 9.5, 10.0, 97.5, 46.0, 2.5, 27.5, 124.0, 26.5, 4.0, 875.0, 72.5, 59.5, 64.5, 5.0, 33.5, 26.0, 19.0, 396.5, 334.5, 60.0, 428.0, 40.5, 3.0, 4.5, 2.0, 53.0, 6.0, 2.0, 765.5, 26.0, 58.0, 6.5, 5.0, 125.0, 2.0, 43.0, 11.0, 44.0, 5.0, 3.5, 99.5, 1365.5, 64.5, 45.5, 17.5, 3.5, 276.5, 12.5, 72.0, 4.5, 67.0, 69.0, 8.5, 300.5, 29.5, 220.0, 93.0, 23.0, 7.0, 11.0]\n"
     ]
    },
    {
     "ename": "error",
     "evalue": "OpenCV(4.5.4) D:\\a\\opencv-python\\opencv-python\\opencv\\modules\\highgui\\src\\window.cpp:1274: error: (-2:Unspecified error) The function is not implemented. Rebuild the library with Windows, GTK+ 2.x or Cocoa support. If you are on Ubuntu or Debian, install libgtk2.0-dev and pkg-config, then re-run cmake or configure script in function 'cvShowImage'\n",
     "output_type": "error",
     "traceback": [
      "\u001b[1;31m---------------------------------------------------------------------------\u001b[0m",
      "\u001b[1;31merror\u001b[0m                                     Traceback (most recent call last)",
      "\u001b[1;32m~\\AppData\\Local\\Temp\\ipykernel_9932\\1863899045.py\u001b[0m in \u001b[0;36m<module>\u001b[1;34m\u001b[0m\n\u001b[0;32m     60\u001b[0m \u001b[1;33m\u001b[0m\u001b[0m\n\u001b[0;32m     61\u001b[0m \u001b[1;31m# Display\u001b[0m\u001b[1;33m\u001b[0m\u001b[1;33m\u001b[0m\u001b[1;33m\u001b[0m\u001b[0m\n\u001b[1;32m---> 62\u001b[1;33m \u001b[0mcv2\u001b[0m\u001b[1;33m.\u001b[0m\u001b[0mimshow\u001b[0m\u001b[1;33m(\u001b[0m\u001b[1;34m'kmeans'\u001b[0m\u001b[1;33m,\u001b[0m \u001b[0mkmeans\u001b[0m\u001b[1;33m)\u001b[0m\u001b[1;33m\u001b[0m\u001b[1;33m\u001b[0m\u001b[0m\n\u001b[0m\u001b[0;32m     63\u001b[0m \u001b[0mcv2\u001b[0m\u001b[1;33m.\u001b[0m\u001b[0mimshow\u001b[0m\u001b[1;33m(\u001b[0m\u001b[1;34m'original'\u001b[0m\u001b[1;33m,\u001b[0m \u001b[0moriginal\u001b[0m\u001b[1;33m)\u001b[0m\u001b[1;33m\u001b[0m\u001b[1;33m\u001b[0m\u001b[0m\n\u001b[0;32m     64\u001b[0m \u001b[0mcv2\u001b[0m\u001b[1;33m.\u001b[0m\u001b[0mimshow\u001b[0m\u001b[1;33m(\u001b[0m\u001b[1;34m'thresh'\u001b[0m\u001b[1;33m,\u001b[0m \u001b[0mthresh\u001b[0m\u001b[1;33m)\u001b[0m\u001b[1;33m\u001b[0m\u001b[1;33m\u001b[0m\u001b[0m\n",
      "\u001b[1;31merror\u001b[0m: OpenCV(4.5.4) D:\\a\\opencv-python\\opencv-python\\opencv\\modules\\highgui\\src\\window.cpp:1274: error: (-2:Unspecified error) The function is not implemented. Rebuild the library with Windows, GTK+ 2.x or Cocoa support. If you are on Ubuntu or Debian, install libgtk2.0-dev and pkg-config, then re-run cmake or configure script in function 'cvShowImage'\n"
     ]
    }
   ],
   "source": [
    "import cv2\n",
    "import numpy as np\n",
    "import pylab\n",
    "name = '3.png'\n",
    "# Kmeans \n",
    "def kmeans_color_quantization(image, clusters=8, rounds=1):\n",
    "    h, w = image.shape[:2]\n",
    "    samples = np.zeros([h*w,3], dtype=np.float32)\n",
    "    count = 0\n",
    "\n",
    "    for x in range(h):\n",
    "        for y in range(w):\n",
    "            samples[count] = image[x][y]\n",
    "            count += 1\n",
    "\n",
    "    compactness, labels, centers = cv2.kmeans(samples,\n",
    "            clusters, \n",
    "            None,\n",
    "            (cv2.TERM_CRITERIA_EPS + cv2.TERM_CRITERIA_MAX_ITER, 10000, 0.0001), \n",
    "            rounds, \n",
    "            cv2.KMEANS_RANDOM_CENTERS)\n",
    "\n",
    "    centers = np.uint8(centers)\n",
    "    res = centers[labels.flatten()]\n",
    "    return res.reshape((image.shape))\n",
    "\n",
    "# Load image\n",
    "image = cv2.imread(name)\n",
    "original = image.copy()\n",
    "\n",
    "# Perform kmeans color segmentation, grayscale, Otsu's threshold\n",
    "kmeans = kmeans_color_quantization(image, clusters=2)\n",
    "gray = cv2.cvtColor(kmeans, cv2.COLOR_BGR2GRAY)\n",
    "thresh = cv2.threshold(gray, 0, 255, cv2.THRESH_BINARY + cv2.THRESH_OTSU)[1]\n",
    "\n",
    "# Find contours, remove tiny specs using contour area filtering, gather points\n",
    "points_list = []\n",
    "size_list = []\n",
    "cnts, _ = cv2.findContours(thresh, cv2.RETR_EXTERNAL, cv2.CHAIN_APPROX_SIMPLE)[-2:]\n",
    "AREA_THRESHOLD = 2\n",
    "for c in cnts:\n",
    "    area = cv2.contourArea(c)\n",
    "    if area < AREA_THRESHOLD:\n",
    "        cv2.drawContours(thresh, [c], -1, 0, -1)\n",
    "    else:\n",
    "        (x, y), radius = cv2.minEnclosingCircle(c)\n",
    "        points_list.append((int(x), int(y)))\n",
    "        size_list.append(area)\n",
    "\n",
    "# Apply mask onto original image\n",
    "result = cv2.bitwise_and(original, original, mask=thresh)\n",
    "result[thresh==255] = (36,255,12)\n",
    "\n",
    "# Overlay on original\n",
    "original[thresh==255] = (36,255,12)\n",
    "\n",
    "print(\"Number of particles: {}\".format(len(points_list)))\n",
    "print(\"Average particle size: {:.3f}\".format(sum(size_list)/len(size_list)))\n",
    "print(size_list)\n",
    "\n",
    "# Display\n",
    "cv2.imshow('kmeans', kmeans)\n",
    "cv2.imshow('original', original)\n",
    "cv2.imshow('thresh', thresh)\n",
    "cv2.imshow('result', result)\n",
    "cv2.waitKey(0)"
   ]
  },
  {
   "cell_type": "code",
   "execution_count": 3,
   "id": "62ec57a3",
   "metadata": {},
   "outputs": [],
   "source": [
    "def DetectCotours(name):\n",
    "    # Load the image\n",
    "    img = cv2.imread('1.png')\n",
    "\n",
    "    # Convert the image to grayscale\n",
    "    gray = cv2.cvtColor(img, cv2.COLOR_BGR2GRAY)\n",
    "\n",
    "    # Apply Canny edge detection\n",
    "    edges = cv2.Canny(gray, 100, 200)\n",
    "\n",
    "    # Display the resulting image\n",
    "    cv2.imshow('Edges', edges)\n",
    "    cv2.waitKey(0)\n",
    "    cv2.destroyAllWindows()"
   ]
  },
  {
   "cell_type": "code",
   "execution_count": null,
   "id": "6497aa2e",
   "metadata": {},
   "outputs": [],
   "source": []
  }
 ],
 "metadata": {
  "kernelspec": {
   "display_name": "Python 3 (ipykernel)",
   "language": "python",
   "name": "python3"
  },
  "language_info": {
   "codemirror_mode": {
    "name": "ipython",
    "version": 3
   },
   "file_extension": ".py",
   "mimetype": "text/x-python",
   "name": "python",
   "nbconvert_exporter": "python",
   "pygments_lexer": "ipython3",
   "version": "3.7.6"
  }
 },
 "nbformat": 4,
 "nbformat_minor": 5
}
